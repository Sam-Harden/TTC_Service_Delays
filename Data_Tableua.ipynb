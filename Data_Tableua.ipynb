{
 "cells": [
  {
   "cell_type": "code",
   "execution_count": 1,
   "metadata": {},
   "outputs": [
    {
     "name": "stdout",
     "output_type": "stream",
     "text": [
      "Original Data:\n",
      "\n",
      "Сombined Data Set: (121904, 10)\n",
      "33 files downloaded\n",
      "Duplicated rows:  50\n",
      "\n",
      "Duplicated rows are dropped.\n",
      "Duplicated rows:  0\n",
      "Data set:  (36403, 10)\n",
      "\n",
      "The file '3. Prepared Data/ttc_Tableau_prepared_data.xlsx' is saved.\n"
     ]
    }
   ],
   "source": [
    "import os\n",
    "import pandas as pd\n",
    "import numpy as np\n",
    "from datetime import datetime, timedelta\n",
    "\n",
    "########################### Load TTC delay data files ###############################\n",
    "\n",
    "# Load the .xlsx files contain TTC delay data from the 'delays_by_month' folder\n",
    "# Print the list of file names, dimensions of DataFrames\n",
    "print('Original Data:')\n",
    "#print('Datatsets:')\n",
    "\n",
    "files=[]\n",
    "for f in os.listdir('1. Original Data/delays_by_month'):\n",
    "    if f.endswith('.xlsx'):\n",
    "        df_f = pd.read_excel('1. Original Data/delays_by_month/' + f)\n",
    "        # Print file names and dimensionality of the DataFrames\n",
    "        #print(f, df_f.shape) \n",
    "        files.append(df_f)\n",
    "\n",
    "# Concatenate DataFrames to combine the data       \n",
    "df_data = pd.concat(files)\n",
    "print('\\nСombined Data Set:', df_data.shape)\n",
    "print(len(files),'files downloaded')\n",
    "\n",
    "# Filter the data by delay time. Select data with delay time > 0\n",
    "df_data = df_data[df_data['Min Delay'] > 0]\n",
    "\n",
    "# Check duplicated rows\n",
    "print('Duplicated rows: ', df_data.duplicated().sum())\n",
    "\n",
    "# Save duplicates rows to the 'Analysis' folder\n",
    "duplicated_rows = df_data[df_data.duplicated()].sort_values(by='Date')\n",
    "duplicated_rows.to_excel(\"2. Analysis/ttc_Tableau_duplicated_rows.xlsx\")\n",
    "\n",
    "# Drop duplicated rows\n",
    "df_data.drop_duplicates(inplace=True)\n",
    "df_data.duplicated().sum()\n",
    "print('\\nDuplicated rows are dropped.')\n",
    "print('Duplicated rows: ', df_data.duplicated().sum())\n",
    "print('Data set: ', df_data.shape)\n",
    "\n",
    "# Reset index\n",
    "df_data.reset_index(drop=True, inplace=True)\n",
    "\n",
    "# Save the data to the 'Prepared Data' folder\n",
    "prepared_data = '3. Prepared Data/ttc_Tableau_prepared_data.xlsx'\n",
    "\n",
    "df_data.to_excel(prepared_data, index=False)\n",
    "print(f\"\\nThe file '{prepared_data}' is saved.\")\n",
    "\n",
    "# Check saved data\n",
    "#data = pd.read_excel(prepared_data)\n",
    "#data.head()"
   ]
  },
  {
   "cell_type": "code",
   "execution_count": null,
   "metadata": {},
   "outputs": [],
   "source": []
  }
 ],
 "metadata": {
  "kernelspec": {
   "display_name": "Python 3",
   "language": "python",
   "name": "python3"
  },
  "language_info": {
   "codemirror_mode": {
    "name": "ipython",
    "version": 3
   },
   "file_extension": ".py",
   "mimetype": "text/x-python",
   "name": "python",
   "nbconvert_exporter": "python",
   "pygments_lexer": "ipython3",
   "version": "3.7.3"
  }
 },
 "nbformat": 4,
 "nbformat_minor": 2
}
